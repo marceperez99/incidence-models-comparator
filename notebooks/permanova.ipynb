{
 "cells": [
  {
   "metadata": {
    "ExecuteTime": {
     "end_time": "2025-07-29T21:01:50.160998Z",
     "start_time": "2025-07-29T21:01:49.871823Z"
    }
   },
   "cell_type": "code",
   "source": [
    "import pandas as pd\n",
    "import numpy as np\n",
    "from itertools import combinations\n",
    "from scipy.stats import permutation_test\n",
    "import statsmodels.api as sm\n",
    "import statsmodels.formula.api as smf"
   ],
   "id": "64fc9c2f9107640",
   "outputs": [],
   "execution_count": 1
  },
  {
   "metadata": {
    "collapsed": true,
    "ExecuteTime": {
     "end_time": "2025-07-29T21:01:52.148938Z",
     "start_time": "2025-07-29T21:01:52.122844Z"
    }
   },
   "cell_type": "code",
   "source": [
    "# 1. Carga el dataset\n",
    "df = pd.read_csv('../outputs/metrics.csv')\n",
    "\n",
    "# 2. Log-transform si hay skew (ejemplo opcional)\n",
    "df['MAE_log'] = np.log1p(df['MAE'])\n",
    "\n",
    "# 3. Verificar supuestos clásicos ANOVA (opcional antes de permutación)\n",
    "\n",
    "# 4. Prueba ANOVA por permutaciones: función general\n",
    "def permutation_anova(df, formula, n_permutations=5000):\n",
    "    \"\"\"\n",
    "    Realiza ANOVA por permutaciones sobre la fórmula especificada,\n",
    "    devolviendo F observada y p‑valor empírico.\n",
    "    \"\"\"\n",
    "    model = smf.ols(formula, data=df).fit()\n",
    "    anova_table = sm.stats.anova_lm(model, typ=2)\n",
    "    f_obs = anova_table['F'].iloc[0]\n",
    "    groups = df.copy()\n",
    "    f_perms = []\n",
    "    for _ in range(n_permutations):\n",
    "        groups['MAE_perm'] = np.random.permutation(groups['MAE'])\n",
    "        mod = smf.ols(formula.replace('MAE', 'MAE_perm'), data=groups).fit()\n",
    "        ft = sm.stats.anova_lm(mod, typ=2)['F'].iloc[0]\n",
    "\n",
    "        f_perms.append(ft)\n",
    "    p_val = np.mean([f >= f_obs for f in f_perms])\n",
    "    return f_obs, p_val, anova_table\n",
    "\n",
    "# 5. Ejemplo: efecto de Method sobre MAE, controlando por Disease\n",
    "\n",
    "\n"
   ],
   "id": "initial_id",
   "outputs": [],
   "execution_count": 2
  },
  {
   "metadata": {
    "ExecuteTime": {
     "end_time": "2025-07-29T23:35:33.095481Z",
     "start_time": "2025-07-29T23:14:53.216591Z"
    }
   },
   "cell_type": "code",
   "source": [
    "# 6. Si hay múltiples factores: combinaciones\n",
    "formulas = [\n",
    "    'MAE ~ C(Method)',\n",
    "    'MAE ~ C(Disease)',\n",
    "    'MAE ~ C(Level)',\n",
    "    'MAE ~ C(Method) + C(Disease) + C(Level) + C(Q(\"Prediction Weeks\"))',\n",
    "    'MAE ~ C(Method) * C(Disease)',\n",
    "    'MAE ~ C(Method) * C(Level)',\n",
    "\n",
    "]\n",
    "\n",
    "results = {}\n",
    "\n",
    "for formula in formulas:\n",
    "    f_stat, p_val, table = permutation_anova(df, formula, 5000)\n",
    "    results[formula] = {'F': f_stat, 'p_perm': p_val, 'table': table}\n",
    "    print(f'\\n📌 Modelo: {formula}')\n",
    "    print(table)\n",
    "    print(f'  → estadístico F = {f_stat:.3f}, p_perm = {p_val:.5f}')"
   ],
   "id": "8b19e5bd3f3da37a",
   "outputs": [
    {
     "name": "stdout",
     "output_type": "stream",
     "text": [
      "\n",
      "📌 Modelo: MAE ~ C(Method)\n",
      "                 sum_sq      df          F        PR(>F)\n",
      "C(Method)  2.384027e+06     7.0  47.366141  7.057260e-66\n",
      "Residual   4.433519e+07  6166.0        NaN           NaN\n",
      "  → estadístico F = 47.366, p_perm = 0.00000\n",
      "\n",
      "📌 Modelo: MAE ~ C(Disease)\n",
      "                  sum_sq      df          F        PR(>F)\n",
      "C(Disease)  3.793239e+05     1.0  50.522069  1.311226e-12\n",
      "Residual    4.633989e+07  6172.0        NaN           NaN\n",
      "  → estadístico F = 50.522, p_perm = 0.00000\n",
      "\n",
      "📌 Modelo: MAE ~ C(Level)\n",
      "                sum_sq      df          F         PR(>F)\n",
      "C(Level)  5.930867e+06    23.0  38.880275  7.136502e-162\n",
      "Residual  4.078835e+07  6150.0        NaN            NaN\n",
      "  → estadístico F = 38.880, p_perm = 0.00000\n",
      "\n",
      "📌 Modelo: MAE ~ C(Method) + C(Disease) + C(Level) + C(Q(\"Prediction Weeks\"))\n",
      "                                sum_sq      df          F         PR(>F)\n",
      "C(Method)                 2.422663e+06     7.0  56.251431   1.900730e-78\n",
      "C(Disease)                4.062930e+05     1.0  66.035571   5.310632e-16\n",
      "C(Level)                  5.989101e+06    23.0  42.322609  1.931648e-176\n",
      "C(Q(\"Prediction Weeks\"))  1.920904e+05     3.0  10.406937   7.926367e-07\n",
      "Residual                  3.777105e+07  6139.0        NaN            NaN\n",
      "  → estadístico F = 56.251, p_perm = 0.00000\n",
      "\n",
      "📌 Modelo: MAE ~ C(Method) * C(Disease)\n",
      "                            sum_sq      df          F        PR(>F)\n",
      "C(Method)             2.387786e+06     7.0  49.835648  2.216511e-69\n",
      "C(Disease)            3.830829e+05     1.0  55.967463  8.398394e-14\n",
      "C(Method):C(Disease)  1.802176e+06     7.0  37.613354  5.694043e-52\n",
      "Residual              4.214993e+07  6158.0        NaN           NaN\n",
      "  → estadístico F = 49.836, p_perm = 0.00000\n",
      "\n",
      "📌 Modelo: MAE ~ C(Method) * C(Level)\n",
      "                          sum_sq      df          F         PR(>F)\n",
      "C(Method)           2.419235e+06     7.0  68.523747   1.434703e-95\n",
      "C(Level)            5.966075e+06    23.0  51.430650  6.863293e-214\n",
      "C(Method):C(Level)  8.198423e+06   161.0  10.096377  2.483745e-207\n",
      "Residual            3.017069e+07  5982.0        NaN            NaN\n",
      "  → estadístico F = 68.524, p_perm = 0.00000\n"
     ]
    },
    {
     "ename": "PatsyError",
     "evalue": "error tokenizing input (maybe an unclosed string?)\n    MAE ~ C(Method) * C(`Prediction Weeks`)\n                        ^",
     "output_type": "error",
     "traceback": [
      "\u001B[0;31m---------------------------------------------------------------------------\u001B[0m",
      "\u001B[0;31mPatsyError\u001B[0m                                Traceback (most recent call last)",
      "Cell \u001B[0;32mIn[4], line 20\u001B[0m\n\u001B[1;32m     17\u001B[0m results \u001B[38;5;241m=\u001B[39m {}\n\u001B[1;32m     19\u001B[0m \u001B[38;5;28;01mfor\u001B[39;00m formula \u001B[38;5;129;01min\u001B[39;00m formulas:\n\u001B[0;32m---> 20\u001B[0m     f_stat, p_val, table \u001B[38;5;241m=\u001B[39m \u001B[43mpermutation_anova\u001B[49m\u001B[43m(\u001B[49m\u001B[43mdf\u001B[49m\u001B[43m,\u001B[49m\u001B[43m \u001B[49m\u001B[43mformula\u001B[49m\u001B[43m,\u001B[49m\u001B[43m \u001B[49m\u001B[38;5;241;43m5000\u001B[39;49m\u001B[43m)\u001B[49m\n\u001B[1;32m     21\u001B[0m     results[formula] \u001B[38;5;241m=\u001B[39m {\u001B[38;5;124m'\u001B[39m\u001B[38;5;124mF\u001B[39m\u001B[38;5;124m'\u001B[39m: f_stat, \u001B[38;5;124m'\u001B[39m\u001B[38;5;124mp_perm\u001B[39m\u001B[38;5;124m'\u001B[39m: p_val, \u001B[38;5;124m'\u001B[39m\u001B[38;5;124mtable\u001B[39m\u001B[38;5;124m'\u001B[39m: table}\n\u001B[1;32m     22\u001B[0m     \u001B[38;5;28mprint\u001B[39m(\u001B[38;5;124mf\u001B[39m\u001B[38;5;124m'\u001B[39m\u001B[38;5;130;01m\\n\u001B[39;00m\u001B[38;5;124m📌 Modelo: \u001B[39m\u001B[38;5;132;01m{\u001B[39;00mformula\u001B[38;5;132;01m}\u001B[39;00m\u001B[38;5;124m'\u001B[39m)\n",
      "Cell \u001B[0;32mIn[2], line 15\u001B[0m, in \u001B[0;36mpermutation_anova\u001B[0;34m(df, formula, n_permutations)\u001B[0m\n\u001B[1;32m     10\u001B[0m \u001B[38;5;28;01mdef\u001B[39;00m\u001B[38;5;250m \u001B[39m\u001B[38;5;21mpermutation_anova\u001B[39m(df, formula, n_permutations\u001B[38;5;241m=\u001B[39m\u001B[38;5;241m5000\u001B[39m):\n\u001B[1;32m     11\u001B[0m \u001B[38;5;250m    \u001B[39m\u001B[38;5;124;03m\"\"\"\u001B[39;00m\n\u001B[1;32m     12\u001B[0m \u001B[38;5;124;03m    Realiza ANOVA por permutaciones sobre la fórmula especificada,\u001B[39;00m\n\u001B[1;32m     13\u001B[0m \u001B[38;5;124;03m    devolviendo F observada y p‑valor empírico.\u001B[39;00m\n\u001B[1;32m     14\u001B[0m \u001B[38;5;124;03m    \"\"\"\u001B[39;00m\n\u001B[0;32m---> 15\u001B[0m     model \u001B[38;5;241m=\u001B[39m \u001B[43msmf\u001B[49m\u001B[38;5;241;43m.\u001B[39;49m\u001B[43mols\u001B[49m\u001B[43m(\u001B[49m\u001B[43mformula\u001B[49m\u001B[43m,\u001B[49m\u001B[43m \u001B[49m\u001B[43mdata\u001B[49m\u001B[38;5;241;43m=\u001B[39;49m\u001B[43mdf\u001B[49m\u001B[43m)\u001B[49m\u001B[38;5;241m.\u001B[39mfit()\n\u001B[1;32m     16\u001B[0m     anova_table \u001B[38;5;241m=\u001B[39m sm\u001B[38;5;241m.\u001B[39mstats\u001B[38;5;241m.\u001B[39manova_lm(model, typ\u001B[38;5;241m=\u001B[39m\u001B[38;5;241m2\u001B[39m)\n\u001B[1;32m     17\u001B[0m     f_obs \u001B[38;5;241m=\u001B[39m anova_table[\u001B[38;5;124m'\u001B[39m\u001B[38;5;124mF\u001B[39m\u001B[38;5;124m'\u001B[39m]\u001B[38;5;241m.\u001B[39miloc[\u001B[38;5;241m0\u001B[39m]\n",
      "File \u001B[0;32m~/.local/share/virtualenvs/incidence-models-comparator-qtCkqayS/lib/python3.10/site-packages/statsmodels/base/model.py:203\u001B[0m, in \u001B[0;36mModel.from_formula\u001B[0;34m(cls, formula, data, subset, drop_cols, *args, **kwargs)\u001B[0m\n\u001B[1;32m    200\u001B[0m \u001B[38;5;28;01mif\u001B[39;00m missing \u001B[38;5;241m==\u001B[39m \u001B[38;5;124m'\u001B[39m\u001B[38;5;124mnone\u001B[39m\u001B[38;5;124m'\u001B[39m:  \u001B[38;5;66;03m# with patsy it's drop or raise. let's raise.\u001B[39;00m\n\u001B[1;32m    201\u001B[0m     missing \u001B[38;5;241m=\u001B[39m \u001B[38;5;124m'\u001B[39m\u001B[38;5;124mraise\u001B[39m\u001B[38;5;124m'\u001B[39m\n\u001B[0;32m--> 203\u001B[0m tmp \u001B[38;5;241m=\u001B[39m \u001B[43mhandle_formula_data\u001B[49m\u001B[43m(\u001B[49m\u001B[43mdata\u001B[49m\u001B[43m,\u001B[49m\u001B[43m \u001B[49m\u001B[38;5;28;43;01mNone\u001B[39;49;00m\u001B[43m,\u001B[49m\u001B[43m \u001B[49m\u001B[43mformula\u001B[49m\u001B[43m,\u001B[49m\u001B[43m \u001B[49m\u001B[43mdepth\u001B[49m\u001B[38;5;241;43m=\u001B[39;49m\u001B[43meval_env\u001B[49m\u001B[43m,\u001B[49m\n\u001B[1;32m    204\u001B[0m \u001B[43m                          \u001B[49m\u001B[43mmissing\u001B[49m\u001B[38;5;241;43m=\u001B[39;49m\u001B[43mmissing\u001B[49m\u001B[43m)\u001B[49m\n\u001B[1;32m    205\u001B[0m ((endog, exog), missing_idx, design_info) \u001B[38;5;241m=\u001B[39m tmp\n\u001B[1;32m    206\u001B[0m max_endog \u001B[38;5;241m=\u001B[39m \u001B[38;5;28mcls\u001B[39m\u001B[38;5;241m.\u001B[39m_formula_max_endog\n",
      "File \u001B[0;32m~/.local/share/virtualenvs/incidence-models-comparator-qtCkqayS/lib/python3.10/site-packages/statsmodels/formula/formulatools.py:63\u001B[0m, in \u001B[0;36mhandle_formula_data\u001B[0;34m(Y, X, formula, depth, missing)\u001B[0m\n\u001B[1;32m     61\u001B[0m \u001B[38;5;28;01melse\u001B[39;00m:\n\u001B[1;32m     62\u001B[0m     \u001B[38;5;28;01mif\u001B[39;00m data_util\u001B[38;5;241m.\u001B[39m_is_using_pandas(Y, \u001B[38;5;28;01mNone\u001B[39;00m):\n\u001B[0;32m---> 63\u001B[0m         result \u001B[38;5;241m=\u001B[39m \u001B[43mdmatrices\u001B[49m\u001B[43m(\u001B[49m\u001B[43mformula\u001B[49m\u001B[43m,\u001B[49m\u001B[43m \u001B[49m\u001B[43mY\u001B[49m\u001B[43m,\u001B[49m\u001B[43m \u001B[49m\u001B[43mdepth\u001B[49m\u001B[43m,\u001B[49m\u001B[43m \u001B[49m\u001B[43mreturn_type\u001B[49m\u001B[38;5;241;43m=\u001B[39;49m\u001B[38;5;124;43m'\u001B[39;49m\u001B[38;5;124;43mdataframe\u001B[39;49m\u001B[38;5;124;43m'\u001B[39;49m\u001B[43m,\u001B[49m\n\u001B[1;32m     64\u001B[0m \u001B[43m                           \u001B[49m\u001B[43mNA_action\u001B[49m\u001B[38;5;241;43m=\u001B[39;49m\u001B[43mna_action\u001B[49m\u001B[43m)\u001B[49m\n\u001B[1;32m     65\u001B[0m     \u001B[38;5;28;01melse\u001B[39;00m:\n\u001B[1;32m     66\u001B[0m         result \u001B[38;5;241m=\u001B[39m dmatrices(formula, Y, depth, return_type\u001B[38;5;241m=\u001B[39m\u001B[38;5;124m'\u001B[39m\u001B[38;5;124mdataframe\u001B[39m\u001B[38;5;124m'\u001B[39m,\n\u001B[1;32m     67\u001B[0m                            NA_action\u001B[38;5;241m=\u001B[39mna_action)\n",
      "File \u001B[0;32m~/.local/share/virtualenvs/incidence-models-comparator-qtCkqayS/lib/python3.10/site-packages/patsy/highlevel.py:319\u001B[0m, in \u001B[0;36mdmatrices\u001B[0;34m(formula_like, data, eval_env, NA_action, return_type)\u001B[0m\n\u001B[1;32m    309\u001B[0m \u001B[38;5;250m\u001B[39m\u001B[38;5;124;03m\"\"\"Construct two design matrices given a formula_like and data.\u001B[39;00m\n\u001B[1;32m    310\u001B[0m \n\u001B[1;32m    311\u001B[0m \u001B[38;5;124;03mThis function is identical to :func:`dmatrix`, except that it requires\u001B[39;00m\n\u001B[0;32m   (...)\u001B[0m\n\u001B[1;32m    316\u001B[0m \u001B[38;5;124;03mSee :func:`dmatrix` for details.\u001B[39;00m\n\u001B[1;32m    317\u001B[0m \u001B[38;5;124;03m\"\"\"\u001B[39;00m\n\u001B[1;32m    318\u001B[0m eval_env \u001B[38;5;241m=\u001B[39m EvalEnvironment\u001B[38;5;241m.\u001B[39mcapture(eval_env, reference\u001B[38;5;241m=\u001B[39m\u001B[38;5;241m1\u001B[39m)\n\u001B[0;32m--> 319\u001B[0m (lhs, rhs) \u001B[38;5;241m=\u001B[39m \u001B[43m_do_highlevel_design\u001B[49m\u001B[43m(\u001B[49m\n\u001B[1;32m    320\u001B[0m \u001B[43m    \u001B[49m\u001B[43mformula_like\u001B[49m\u001B[43m,\u001B[49m\u001B[43m \u001B[49m\u001B[43mdata\u001B[49m\u001B[43m,\u001B[49m\u001B[43m \u001B[49m\u001B[43meval_env\u001B[49m\u001B[43m,\u001B[49m\u001B[43m \u001B[49m\u001B[43mNA_action\u001B[49m\u001B[43m,\u001B[49m\u001B[43m \u001B[49m\u001B[43mreturn_type\u001B[49m\n\u001B[1;32m    321\u001B[0m \u001B[43m\u001B[49m\u001B[43m)\u001B[49m\n\u001B[1;32m    322\u001B[0m \u001B[38;5;28;01mif\u001B[39;00m lhs\u001B[38;5;241m.\u001B[39mshape[\u001B[38;5;241m1\u001B[39m] \u001B[38;5;241m==\u001B[39m \u001B[38;5;241m0\u001B[39m:\n\u001B[1;32m    323\u001B[0m     \u001B[38;5;28;01mraise\u001B[39;00m PatsyError(\u001B[38;5;124m\"\u001B[39m\u001B[38;5;124mmodel is missing required outcome variables\u001B[39m\u001B[38;5;124m\"\u001B[39m)\n",
      "File \u001B[0;32m~/.local/share/virtualenvs/incidence-models-comparator-qtCkqayS/lib/python3.10/site-packages/patsy/highlevel.py:164\u001B[0m, in \u001B[0;36m_do_highlevel_design\u001B[0;34m(formula_like, data, eval_env, NA_action, return_type)\u001B[0m\n\u001B[1;32m    161\u001B[0m \u001B[38;5;28;01mdef\u001B[39;00m\u001B[38;5;250m \u001B[39m\u001B[38;5;21mdata_iter_maker\u001B[39m():\n\u001B[1;32m    162\u001B[0m     \u001B[38;5;28;01mreturn\u001B[39;00m \u001B[38;5;28miter\u001B[39m([data])\n\u001B[0;32m--> 164\u001B[0m design_infos \u001B[38;5;241m=\u001B[39m \u001B[43m_try_incr_builders\u001B[49m\u001B[43m(\u001B[49m\n\u001B[1;32m    165\u001B[0m \u001B[43m    \u001B[49m\u001B[43mformula_like\u001B[49m\u001B[43m,\u001B[49m\u001B[43m \u001B[49m\u001B[43mdata_iter_maker\u001B[49m\u001B[43m,\u001B[49m\u001B[43m \u001B[49m\u001B[43meval_env\u001B[49m\u001B[43m,\u001B[49m\u001B[43m \u001B[49m\u001B[43mNA_action\u001B[49m\n\u001B[1;32m    166\u001B[0m \u001B[43m\u001B[49m\u001B[43m)\u001B[49m\n\u001B[1;32m    167\u001B[0m \u001B[38;5;28;01mif\u001B[39;00m design_infos \u001B[38;5;129;01mis\u001B[39;00m \u001B[38;5;129;01mnot\u001B[39;00m \u001B[38;5;28;01mNone\u001B[39;00m:\n\u001B[1;32m    168\u001B[0m     \u001B[38;5;28;01mreturn\u001B[39;00m build_design_matrices(\n\u001B[1;32m    169\u001B[0m         design_infos, data, NA_action\u001B[38;5;241m=\u001B[39mNA_action, return_type\u001B[38;5;241m=\u001B[39mreturn_type\n\u001B[1;32m    170\u001B[0m     )\n",
      "File \u001B[0;32m~/.local/share/virtualenvs/incidence-models-comparator-qtCkqayS/lib/python3.10/site-packages/patsy/highlevel.py:52\u001B[0m, in \u001B[0;36m_try_incr_builders\u001B[0;34m(formula_like, data_iter_maker, eval_env, NA_action)\u001B[0m\n\u001B[1;32m     50\u001B[0m     \u001B[38;5;66;03m# fallthrough\u001B[39;00m\n\u001B[1;32m     51\u001B[0m \u001B[38;5;28;01mif\u001B[39;00m \u001B[38;5;28misinstance\u001B[39m(formula_like, \u001B[38;5;28mstr\u001B[39m):\n\u001B[0;32m---> 52\u001B[0m     formula_like \u001B[38;5;241m=\u001B[39m \u001B[43mModelDesc\u001B[49m\u001B[38;5;241;43m.\u001B[39;49m\u001B[43mfrom_formula\u001B[49m\u001B[43m(\u001B[49m\u001B[43mformula_like\u001B[49m\u001B[43m)\u001B[49m\n\u001B[1;32m     53\u001B[0m     \u001B[38;5;66;03m# fallthrough\u001B[39;00m\n\u001B[1;32m     54\u001B[0m \u001B[38;5;28;01mif\u001B[39;00m \u001B[38;5;28misinstance\u001B[39m(formula_like, ModelDesc):\n",
      "File \u001B[0;32m~/.local/share/virtualenvs/incidence-models-comparator-qtCkqayS/lib/python3.10/site-packages/patsy/desc.py:176\u001B[0m, in \u001B[0;36mModelDesc.from_formula\u001B[0;34m(cls, tree_or_string)\u001B[0m\n\u001B[1;32m    174\u001B[0m     tree \u001B[38;5;241m=\u001B[39m tree_or_string\n\u001B[1;32m    175\u001B[0m \u001B[38;5;28;01melse\u001B[39;00m:\n\u001B[0;32m--> 176\u001B[0m     tree \u001B[38;5;241m=\u001B[39m \u001B[43mparse_formula\u001B[49m\u001B[43m(\u001B[49m\u001B[43mtree_or_string\u001B[49m\u001B[43m)\u001B[49m\n\u001B[1;32m    177\u001B[0m value \u001B[38;5;241m=\u001B[39m Evaluator()\u001B[38;5;241m.\u001B[39meval(tree, require_evalexpr\u001B[38;5;241m=\u001B[39m\u001B[38;5;28;01mFalse\u001B[39;00m)\n\u001B[1;32m    178\u001B[0m \u001B[38;5;28;01massert\u001B[39;00m \u001B[38;5;28misinstance\u001B[39m(value, \u001B[38;5;28mcls\u001B[39m)\n",
      "File \u001B[0;32m~/.local/share/virtualenvs/incidence-models-comparator-qtCkqayS/lib/python3.10/site-packages/patsy/parse_formula.py:150\u001B[0m, in \u001B[0;36mparse_formula\u001B[0;34m(code, extra_operators)\u001B[0m\n\u001B[1;32m    148\u001B[0m operators \u001B[38;5;241m=\u001B[39m _default_ops \u001B[38;5;241m+\u001B[39m extra_operators\n\u001B[1;32m    149\u001B[0m operator_strings \u001B[38;5;241m=\u001B[39m [op\u001B[38;5;241m.\u001B[39mtoken_type \u001B[38;5;28;01mfor\u001B[39;00m op \u001B[38;5;129;01min\u001B[39;00m operators]\n\u001B[0;32m--> 150\u001B[0m tree \u001B[38;5;241m=\u001B[39m \u001B[43minfix_parse\u001B[49m\u001B[43m(\u001B[49m\n\u001B[1;32m    151\u001B[0m \u001B[43m    \u001B[49m\u001B[43m_tokenize_formula\u001B[49m\u001B[43m(\u001B[49m\u001B[43mcode\u001B[49m\u001B[43m,\u001B[49m\u001B[43m \u001B[49m\u001B[43moperator_strings\u001B[49m\u001B[43m)\u001B[49m\u001B[43m,\u001B[49m\u001B[43m \u001B[49m\u001B[43moperators\u001B[49m\u001B[43m,\u001B[49m\u001B[43m \u001B[49m\u001B[43m_atomic_token_types\u001B[49m\n\u001B[1;32m    152\u001B[0m \u001B[43m\u001B[49m\u001B[43m)\u001B[49m\n\u001B[1;32m    153\u001B[0m \u001B[38;5;28;01mif\u001B[39;00m \u001B[38;5;129;01mnot\u001B[39;00m \u001B[38;5;28misinstance\u001B[39m(tree, ParseNode) \u001B[38;5;129;01mor\u001B[39;00m tree\u001B[38;5;241m.\u001B[39mtype \u001B[38;5;241m!=\u001B[39m \u001B[38;5;124m\"\u001B[39m\u001B[38;5;124m~\u001B[39m\u001B[38;5;124m\"\u001B[39m:\n\u001B[1;32m    154\u001B[0m     tree \u001B[38;5;241m=\u001B[39m ParseNode(\u001B[38;5;124m\"\u001B[39m\u001B[38;5;124m~\u001B[39m\u001B[38;5;124m\"\u001B[39m, \u001B[38;5;28;01mNone\u001B[39;00m, [tree], tree\u001B[38;5;241m.\u001B[39morigin)\n",
      "File \u001B[0;32m~/.local/share/virtualenvs/incidence-models-comparator-qtCkqayS/lib/python3.10/site-packages/patsy/infix_parser.py:230\u001B[0m, in \u001B[0;36minfix_parse\u001B[0;34m(tokens, operators, atomic_types, trace)\u001B[0m\n\u001B[1;32m    225\u001B[0m \u001B[38;5;66;03m# This is an implementation of Dijkstra's shunting yard algorithm:\u001B[39;00m\n\u001B[1;32m    226\u001B[0m \u001B[38;5;66;03m#   http://en.wikipedia.org/wiki/Shunting_yard_algorithm\u001B[39;00m\n\u001B[1;32m    227\u001B[0m \u001B[38;5;66;03m#   http://www.engr.mun.ca/~theo/Misc/exp_parsing.htm\u001B[39;00m\n\u001B[1;32m    229\u001B[0m want_noun \u001B[38;5;241m=\u001B[39m \u001B[38;5;28;01mTrue\u001B[39;00m\n\u001B[0;32m--> 230\u001B[0m \u001B[38;5;28;01mfor\u001B[39;00m token \u001B[38;5;129;01min\u001B[39;00m token_source:\n\u001B[1;32m    231\u001B[0m     \u001B[38;5;28;01mif\u001B[39;00m c\u001B[38;5;241m.\u001B[39mtrace:\n\u001B[1;32m    232\u001B[0m         \u001B[38;5;28mprint\u001B[39m(\u001B[38;5;124m\"\u001B[39m\u001B[38;5;124mReading next token (want_noun=\u001B[39m\u001B[38;5;132;01m%r\u001B[39;00m\u001B[38;5;124m)\u001B[39m\u001B[38;5;124m\"\u001B[39m \u001B[38;5;241m%\u001B[39m (want_noun,))\n",
      "File \u001B[0;32m~/.local/share/virtualenvs/incidence-models-comparator-qtCkqayS/lib/python3.10/site-packages/patsy/parse_formula.py:96\u001B[0m, in \u001B[0;36m_tokenize_formula\u001B[0;34m(code, operator_strings)\u001B[0m\n\u001B[1;32m     94\u001B[0m \u001B[38;5;28;01melse\u001B[39;00m:\n\u001B[1;32m     95\u001B[0m     it\u001B[38;5;241m.\u001B[39mpush_back((pytype, token_string, origin))\n\u001B[0;32m---> 96\u001B[0m     \u001B[38;5;28;01myield\u001B[39;00m \u001B[43m_read_python_expr\u001B[49m\u001B[43m(\u001B[49m\u001B[43mit\u001B[49m\u001B[43m,\u001B[49m\u001B[43m \u001B[49m\u001B[43mend_tokens\u001B[49m\u001B[43m)\u001B[49m\n",
      "File \u001B[0;32m~/.local/share/virtualenvs/incidence-models-comparator-qtCkqayS/lib/python3.10/site-packages/patsy/parse_formula.py:44\u001B[0m, in \u001B[0;36m_read_python_expr\u001B[0;34m(it, end_tokens)\u001B[0m\n\u001B[1;32m     42\u001B[0m origins \u001B[38;5;241m=\u001B[39m []\n\u001B[1;32m     43\u001B[0m bracket_level \u001B[38;5;241m=\u001B[39m \u001B[38;5;241m0\u001B[39m\n\u001B[0;32m---> 44\u001B[0m \u001B[38;5;28;01mfor\u001B[39;00m pytype, token_string, origin \u001B[38;5;129;01min\u001B[39;00m it:\n\u001B[1;32m     45\u001B[0m     \u001B[38;5;28;01massert\u001B[39;00m bracket_level \u001B[38;5;241m>\u001B[39m\u001B[38;5;241m=\u001B[39m \u001B[38;5;241m0\u001B[39m\n\u001B[1;32m     46\u001B[0m     \u001B[38;5;28;01mif\u001B[39;00m bracket_level \u001B[38;5;241m==\u001B[39m \u001B[38;5;241m0\u001B[39m \u001B[38;5;129;01mand\u001B[39;00m token_string \u001B[38;5;129;01min\u001B[39;00m end_tokens:\n",
      "File \u001B[0;32m~/.local/share/virtualenvs/incidence-models-comparator-qtCkqayS/lib/python3.10/site-packages/patsy/util.py:400\u001B[0m, in \u001B[0;36mPushbackAdapter.next\u001B[0;34m(self)\u001B[0m\n\u001B[1;32m    397\u001B[0m     \u001B[38;5;28;01mreturn\u001B[39;00m \u001B[38;5;28mself\u001B[39m\u001B[38;5;241m.\u001B[39m_pushed\u001B[38;5;241m.\u001B[39mpop()\n\u001B[1;32m    398\u001B[0m \u001B[38;5;28;01melse\u001B[39;00m:\n\u001B[1;32m    399\u001B[0m     \u001B[38;5;66;03m# May raise StopIteration\u001B[39;00m\n\u001B[0;32m--> 400\u001B[0m     \u001B[38;5;28;01mreturn\u001B[39;00m \u001B[38;5;28;43mnext\u001B[39;49m\u001B[43m(\u001B[49m\u001B[38;5;28;43mself\u001B[39;49m\u001B[38;5;241;43m.\u001B[39;49m\u001B[43m_it\u001B[49m\u001B[43m)\u001B[49m\n",
      "File \u001B[0;32m~/.local/share/virtualenvs/incidence-models-comparator-qtCkqayS/lib/python3.10/site-packages/patsy/tokens.py:40\u001B[0m, in \u001B[0;36mpython_tokenize\u001B[0;34m(code)\u001B[0m\n\u001B[1;32m     38\u001B[0m origin \u001B[38;5;241m=\u001B[39m Origin(code, start, end)\n\u001B[1;32m     39\u001B[0m \u001B[38;5;28;01mif\u001B[39;00m pytype \u001B[38;5;241m==\u001B[39m tokenize\u001B[38;5;241m.\u001B[39mERRORTOKEN:\n\u001B[0;32m---> 40\u001B[0m     \u001B[38;5;28;01mraise\u001B[39;00m PatsyError(\n\u001B[1;32m     41\u001B[0m         \u001B[38;5;124m\"\u001B[39m\u001B[38;5;124merror tokenizing input \u001B[39m\u001B[38;5;124m\"\u001B[39m \u001B[38;5;124m\"\u001B[39m\u001B[38;5;124m(maybe an unclosed string?)\u001B[39m\u001B[38;5;124m\"\u001B[39m, origin\n\u001B[1;32m     42\u001B[0m     )\n\u001B[1;32m     43\u001B[0m \u001B[38;5;28;01mif\u001B[39;00m pytype \u001B[38;5;241m==\u001B[39m tokenize\u001B[38;5;241m.\u001B[39mCOMMENT:\n\u001B[1;32m     44\u001B[0m     \u001B[38;5;28;01mraise\u001B[39;00m PatsyError(\u001B[38;5;124m\"\u001B[39m\u001B[38;5;124mcomments are not allowed\u001B[39m\u001B[38;5;124m\"\u001B[39m, origin)\n",
      "\u001B[0;31mPatsyError\u001B[0m: error tokenizing input (maybe an unclosed string?)\n    MAE ~ C(Method) * C(`Prediction Weeks`)\n                        ^"
     ]
    }
   ],
   "execution_count": 4
  },
  {
   "metadata": {
    "ExecuteTime": {
     "end_time": "2025-07-30T00:50:40.808615Z",
     "start_time": "2025-07-30T00:23:38.880563Z"
    }
   },
   "cell_type": "code",
   "source": [
    "formulas = [\n",
    "\n",
    "    'MAE ~ C(Method) * C(Q(\"Prediction Weeks\"))',\n",
    "    'MAE ~ C(Disease) * C(Level)',\n",
    "    'MAE ~ C(Method) * C(Disease) * C(Q(\"Prediction Weeks\"))',\n",
    "    'MAE ~ C(Method) * C(Disease) + C(Q(\"Prediction Weeks\"))',\n",
    "    'MAE ~ C(Method) + C(Disease) + C(Level) + C(Q(\"Prediction Weeks\")) + C(Method) * C(Disease) + C(Method) * C(Level)',\n",
    "\n",
    "]\n",
    "\n",
    "results = {}\n",
    "\n",
    "for formula in formulas:\n",
    "    f_stat, p_val, table = permutation_anova(df, formula, 5000)\n",
    "    results[formula] = {'F': f_stat, 'p_perm': p_val, 'table': table}\n",
    "    print(f'\\n📌 Modelo: {formula}')\n",
    "    print(table)\n",
    "    print(f'  → estadístico F = {f_stat:.3f}, p_perm = {p_val:.5f}')"
   ],
   "id": "889aac45b0b76c70",
   "outputs": [
    {
     "name": "stdout",
     "output_type": "stream",
     "text": [
      "\n",
      "📌 Modelo: MAE ~ C(Method) * C(Q(\"Prediction Weeks\"))\n",
      "                                          sum_sq      df          F  \\\n",
      "C(Method)                           2.384240e+06     7.0  47.559629   \n",
      "C(Q(\"Prediction Weeks\"))            1.916489e+05     3.0   8.920136   \n",
      "C(Method):C(Q(\"Prediction Weeks\"))  1.566475e+05    21.0   1.041575   \n",
      "Residual                            4.398689e+07  6142.0        NaN   \n",
      "\n",
      "                                          PR(>F)  \n",
      "C(Method)                           3.807431e-66  \n",
      "C(Q(\"Prediction Weeks\"))            6.789972e-06  \n",
      "C(Method):C(Q(\"Prediction Weeks\"))  4.071516e-01  \n",
      "Residual                                     NaN  \n",
      "  → estadístico F = 47.560, p_perm = 0.00000\n",
      "\n",
      "📌 Modelo: MAE ~ C(Disease) * C(Level)\n",
      "                           sum_sq      df          F         PR(>F)\n",
      "C(Disease)           4.027601e+05     1.0  63.086256   2.336690e-15\n",
      "C(Level)             5.954303e+06    23.0  40.550054  6.403126e-169\n",
      "C(Disease):C(Level)  1.275514e+06    23.0   8.686519   1.374485e-29\n",
      "Residual             3.911007e+07  6126.0        NaN            NaN\n",
      "  → estadístico F = 63.086, p_perm = 0.00000\n",
      "\n",
      "📌 Modelo: MAE ~ C(Method) * C(Disease) * C(Q(\"Prediction Weeks\"))\n",
      "                                                     sum_sq      df  \\\n",
      "C(Method)                                      2.388083e+06     7.0   \n",
      "C(Disease)                                     3.835909e+05     1.0   \n",
      "C(Q(\"Prediction Weeks\"))                       1.914895e+05     3.0   \n",
      "C(Method):C(Disease)                           1.800859e+06     7.0   \n",
      "C(Method):C(Q(\"Prediction Weeks\"))             1.565778e+05    21.0   \n",
      "C(Disease):C(Q(\"Prediction Weeks\"))            2.866634e+04     3.0   \n",
      "C(Method):C(Disease):C(Q(\"Prediction Weeks\"))  1.623373e+05    21.0   \n",
      "Residual                                       4.161100e+07  6110.0   \n",
      "\n",
      "                                                       F        PR(>F)  \n",
      "C(Method)                                      50.093854  9.883654e-70  \n",
      "C(Disease)                                     56.325030  7.020651e-14  \n",
      "C(Q(\"Prediction Weeks\"))                        9.372530  3.536100e-06  \n",
      "C(Method):C(Disease)                           37.775885  3.402359e-52  \n",
      "C(Method):C(Q(\"Prediction Weeks\"))              1.094823  3.448433e-01  \n",
      "C(Disease):C(Q(\"Prediction Weeks\"))             1.403085  2.398471e-01  \n",
      "C(Method):C(Disease):C(Q(\"Prediction Weeks\"))   1.135095  3.014874e-01  \n",
      "Residual                                             NaN           NaN  \n",
      "  → estadístico F = 50.094, p_perm = 0.00000\n",
      "\n",
      "📌 Modelo: MAE ~ C(Method) * C(Disease) + C(Q(\"Prediction Weeks\"))\n",
      "                                sum_sq      df          F        PR(>F)\n",
      "C(Method)                 2.387997e+06     7.0  50.043129  1.128310e-69\n",
      "C(Disease)                3.833904e+05     1.0  56.240599  7.318732e-14\n",
      "C(Q(\"Prediction Weeks\"))  1.914895e+05     3.0   9.363377  3.582349e-06\n",
      "C(Method):C(Disease)      1.801709e+06     7.0  37.756823  3.554505e-52\n",
      "Residual                  4.195844e+07  6155.0        NaN           NaN\n",
      "  → estadístico F = 50.043, p_perm = 0.00000\n",
      "\n",
      "📌 Modelo: MAE ~ C(Method) + C(Disease) + C(Level) + C(Q(\"Prediction Weeks\")) + C(Method) * C(Disease) + C(Method) * C(Level)\n",
      "                                sum_sq      df          F         PR(>F)\n",
      "C(Method)                 2.422663e+06     7.0  74.363445  1.133939e-103\n",
      "C(Disease)                4.386391e+05     1.0  94.247942   4.053723e-22\n",
      "C(Level)                  5.966938e+06    23.0  55.742725  2.108335e-231\n",
      "C(Q(\"Prediction Weeks\"))  1.920676e+05     3.0  13.756167   6.136994e-09\n",
      "C(Method):C(Disease)      1.750431e+06     7.0  53.729342   7.997709e-75\n",
      "C(Method):C(Level)        8.201886e+06   161.0  10.945923  3.008068e-228\n",
      "Residual                  2.778962e+07  5971.0        NaN            NaN\n",
      "  → estadístico F = 74.363, p_perm = 0.00000\n"
     ]
    }
   ],
   "execution_count": 6
  },
  {
   "metadata": {},
   "cell_type": "code",
   "outputs": [],
   "execution_count": null,
   "source": [
    "# 7. Post-hoc permutacional: pares de grupos\n",
    "pairs = list(combinations(df['Method'].unique(), 2))\n",
    "results = {}\n",
    "for a, b in pairs:\n",
    "    group_a = df[df['Method']==a]['MAE_log']\n",
    "    group_b = df[df['Method']==b]['MAE_log']\n",
    "    res = permutation_test((group_a, group_b),\n",
    "                           statistic=lambda x, y: np.mean(x)-np.mean(y),\n",
    "                           permutation_type='independent',\n",
    "                           n_resamples=5000,\n",
    "                           alternative='two-sided',\n",
    "                           vectorized=False)\n",
    "    results[(a,b)] = res.pvalue\n",
    "\n",
    "print(\"Post‑hoc permutacional p‑values:\")\n",
    "for pair, p in results.items():\n",
    "    print(pair, \"p =\", p)"
   ],
   "id": "2c6e15c96879cce6"
  }
 ],
 "metadata": {
  "kernelspec": {
   "display_name": "Python 3",
   "language": "python",
   "name": "python3"
  },
  "language_info": {
   "codemirror_mode": {
    "name": "ipython",
    "version": 2
   },
   "file_extension": ".py",
   "mimetype": "text/x-python",
   "name": "python",
   "nbconvert_exporter": "python",
   "pygments_lexer": "ipython2",
   "version": "2.7.6"
  }
 },
 "nbformat": 4,
 "nbformat_minor": 5
}
