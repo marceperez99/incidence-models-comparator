{
 "cells": [
  {
   "cell_type": "code",
   "id": "initial_id",
   "metadata": {
    "collapsed": true,
    "ExecuteTime": {
     "end_time": "2025-04-12T23:30:45.585194Z",
     "start_time": "2025-04-12T23:29:56.678946Z"
    }
   },
   "source": [
    "import requests\n",
    "import pandas as pd\n",
    "import time\n",
    "import os\n",
    "\n",
    "# Leer el archivo de departamentos\n",
    "departamentos = pd.read_csv(\"../data/departamentos_paraguay.csv\")\n",
    "\n",
    "# Fechas del rango deseado\n",
    "start_date = \"2019-01-01\"\n",
    "end_date = \"2023-12-31\"\n",
    "\n",
    "# Lista para acumular resultados\n",
    "all_data = []\n",
    "\n",
    "# Iterar por cada departamento\n",
    "for _, row in departamentos.iterrows():\n",
    "    departamento = row[\"Departamento\"].upper()\n",
    "    lat = row[\"Latitud\"]\n",
    "    lon = row[\"Longitud\"]\n",
    "\n",
    "    url = (\n",
    "        f\"https://archive-api.open-meteo.com/v1/archive?\"\n",
    "        f\"latitude={lat}&longitude={lon}\"\n",
    "        f\"&start_date={start_date}&end_date={end_date}\"\n",
    "        f\"&daily=temperature_2m_mean,precipitation_sum\"\n",
    "        f\"&timezone=America%2FAsuncion\"\n",
    "    )\n",
    "\n",
    "    print(f\"🔄 Descargando datos para {departamento}...\")\n",
    "\n",
    "    try:\n",
    "        response = requests.get(url)\n",
    "        data = response.json()\n",
    "\n",
    "        if \"daily\" in data:\n",
    "            df = pd.DataFrame({\n",
    "                \"fecha\": data[\"daily\"][\"time\"],\n",
    "                \"temperatura\": data[\"daily\"][\"temperature_2m_mean\"],\n",
    "                \"precipitaciones\": data[\"daily\"][\"precipitation_sum\"]\n",
    "            })\n",
    "            df[\"departamento\"] = departamento\n",
    "            all_data.append(df)\n",
    "        else:\n",
    "            print(f\"⚠️ No se encontraron datos para {departamento}\")\n",
    "\n",
    "    except Exception as e:\n",
    "        print(f\"❌ Error al procesar {departamento}: {e}\")\n",
    "\n",
    "    time.sleep(1.5)  # evitar sobrecargar la API\n",
    "\n"
   ],
   "outputs": [
    {
     "name": "stdout",
     "output_type": "stream",
     "text": [
      "🔄 Descargando datos para CONCEPCIÓN...\n",
      "🔄 Descargando datos para SAN PEDRO...\n",
      "🔄 Descargando datos para CORDILLERA...\n",
      "🔄 Descargando datos para GUAIRÁ...\n",
      "🔄 Descargando datos para CAAGUAZÚ...\n",
      "🔄 Descargando datos para CAAZAPÁ...\n",
      "🔄 Descargando datos para ITAPÚA...\n",
      "🔄 Descargando datos para MISIONES...\n",
      "🔄 Descargando datos para PARAGUARÍ...\n",
      "🔄 Descargando datos para ALTO PARANÁ...\n",
      "🔄 Descargando datos para CENTRAL...\n",
      "🔄 Descargando datos para ÑEEMBUCÚ...\n",
      "🔄 Descargando datos para AMAMBAY...\n",
      "🔄 Descargando datos para CANINDEYÚ...\n",
      "🔄 Descargando datos para PRESIDENTE HAYES...\n",
      "🔄 Descargando datos para ALTO PARAGUAY...\n",
      "🔄 Descargando datos para BOQUERÓN...\n",
      "🔄 Descargando datos para ASUNCIÓN (CAPITAL)...\n",
      "✅ Todos los datos guardados en ../data/datos_meteorologicos.csv\n"
     ]
    }
   ],
   "execution_count": 10
  },
  {
   "metadata": {
    "ExecuteTime": {
     "end_time": "2025-04-13T17:19:26.176769Z",
     "start_time": "2025-04-13T17:19:26.119875Z"
    }
   },
   "cell_type": "code",
   "source": [
    "import unicodedata\n",
    "\n",
    "# Función para quitar acentos y convertir a mayúsculas\n",
    "def quitar_acentos(texto):\n",
    "    return unicodedata.normalize('NFKD', texto).encode('ASCII', 'ignore').decode('utf-8').upper()\n",
    "\n",
    "# Aplicar la función a la columna 'departamento'\n",
    "final_df = pd.concat(all_data, ignore_index=True)\n",
    "final_df['departamento'] = final_df['departamento'].apply(quitar_acentos)\n",
    "\n"
   ],
   "id": "9c570cee632f4d1b",
   "outputs": [],
   "execution_count": 11
  },
  {
   "metadata": {
    "ExecuteTime": {
     "end_time": "2025-04-13T17:19:28.409532Z",
     "start_time": "2025-04-13T17:19:28.367538Z"
    }
   },
   "cell_type": "code",
   "source": [
    "# Concatenar todos los resultados y guardar en un único archivo\n",
    "os.makedirs(\"../data\", exist_ok=True)\n",
    "final_df.to_csv(\"../data/datos_meteorologicos.csv\", index=False)\n",
    "print(\"✅ Todos los datos guardados en ../data/datos_meteorologicos.csv\")\n",
    "\n"
   ],
   "id": "41adb5e0fea3fbb3",
   "outputs": [
    {
     "name": "stdout",
     "output_type": "stream",
     "text": [
      "✅ Todos los datos guardados en ../data/datos_meteorologicos.csv\n"
     ]
    }
   ],
   "execution_count": 12
  },
  {
   "metadata": {},
   "cell_type": "code",
   "outputs": [],
   "execution_count": null,
   "source": "",
   "id": "813fe686edbef8ed"
  }
 ],
 "metadata": {
  "kernelspec": {
   "display_name": "Python 3",
   "language": "python",
   "name": "python3"
  },
  "language_info": {
   "codemirror_mode": {
    "name": "ipython",
    "version": 2
   },
   "file_extension": ".py",
   "mimetype": "text/x-python",
   "name": "python",
   "nbconvert_exporter": "python",
   "pygments_lexer": "ipython2",
   "version": "2.7.6"
  }
 },
 "nbformat": 4,
 "nbformat_minor": 5
}
